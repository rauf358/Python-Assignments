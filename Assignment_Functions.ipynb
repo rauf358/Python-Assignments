{
 "cells": [
  {
   "cell_type": "code",
   "execution_count": null,
   "id": "2c79ddbf",
   "metadata": {},
   "outputs": [],
   "source": [
    "def find_max_of_three(a, b, c):\n",
    "    return max(a, b, c)"
   ]
  },
  {
   "cell_type": "code",
   "execution_count": null,
   "id": "c02a8ab6",
   "metadata": {},
   "outputs": [],
   "source": [
    "def sum_list(numbers):\n",
    "    return sum(numbers)\n",
    "\n",
    "# Example usage:\n",
    "sample_list = [8, 2, 3, 0, 7]\n",
    "print(sum_list(sample_list))  # Expected Output: 20"
   ]
  },
  {
   "cell_type": "code",
   "execution_count": null,
   "id": "68f4747e",
   "metadata": {},
   "outputs": [],
   "source": [
    "def multiply_list(numbers):\n",
    "    result = 1\n",
    "    for num in numbers:\n",
    "        result *= num\n",
    "    return result\n",
    "\n",
    "# Example usage:\n",
    "sample_list = [8, 2, 3, -1, 7]\n",
    "print(multiply_list(sample_list))  # Expected Output: -336"
   ]
  },
  {
   "cell_type": "code",
   "execution_count": null,
   "id": "f421eb9d",
   "metadata": {},
   "outputs": [],
   "source": [
    "def reverse_string(s):\n",
    "    return s[::-1]\n",
    "\n",
    "# Example usage:\n",
    "sample_string = \"1234abcd\"\n",
    "print(reverse_string(sample_string))  # Expected Output: \"dcba4321\""
   ]
  },
  {
   "cell_type": "code",
   "execution_count": null,
   "id": "4f69ab50",
   "metadata": {},
   "outputs": [],
   "source": [
    "def factorial(n):\n",
    "    if n == 0:\n",
    "        return 1\n",
    "    return n * factorial(n - 1)\n",
    "\n",
    "# Example usage:\n",
    "print(factorial(5))  # Expected Output: 120"
   ]
  },
  {
   "cell_type": "code",
   "execution_count": null,
   "id": "7d7acad1",
   "metadata": {},
   "outputs": [],
   "source": [
    "def is_within_range(number, start, end):\n",
    "    return start <= number <= end\n",
    "\n",
    "# Example usage:\n",
    "print(is_within_range(5, 1, 10))  # Expected Output: True"
   ]
  },
  {
   "cell_type": "code",
   "execution_count": null,
   "id": "2c628291",
   "metadata": {},
   "outputs": [],
   "source": [
    "def count_case(s):\n",
    "    upper_case = sum(1 for char in s if char.isupper())\n",
    "    lower_case = sum(1 for char in s if char.islower())\n",
    "    return upper_case, lower_case\n",
    "\n",
    "# Example usage:\n",
    "sample_string = 'The quick Brow Fox'\n",
    "upper, lower = count_case(sample_string)\n",
    "print(f\"No. of Upper case characters: {upper}\")  # Expected: 3\n",
    "print(f\"No. of Lower case characters: {lower}\")  # Expected: 12"
   ]
  },
  {
   "cell_type": "code",
   "execution_count": null,
   "id": "6c89d080",
   "metadata": {},
   "outputs": [],
   "source": [
    "def unique_elements(lst):\n",
    "    return list(set(lst))\n",
    "\n",
    "# Example usage:\n",
    "sample_list = [1, 2, 3, 3, 3, 3, 4, 5]\n",
    "print(unique_elements(sample_list))  # Expected Output: [1, 2, 3, 4, 5]"
   ]
  },
  {
   "cell_type": "code",
   "execution_count": null,
   "id": "4b676ee4",
   "metadata": {},
   "outputs": [],
   "source": [
    "def is_prime(num):\n",
    "    if num <= 1:\n",
    "        return False\n",
    "    for i in range(2, int(num**0.5) + 1):\n",
    "        if num % i == 0:\n",
    "            return False\n",
    "    return True\n",
    "\n",
    "# Example usage:\n",
    "print(is_prime(7))  # Expected Output: True"
   ]
  },
  {
   "cell_type": "code",
   "execution_count": null,
   "id": "415e3758",
   "metadata": {},
   "outputs": [],
   "source": [
    "def even_numbers(lst):\n",
    "    return [num for num in lst if num % 2 == 0]\n",
    "\n",
    "# Example usage:\n",
    "sample_list = [1, 2, 3, 4, 5, 6, 7, 8, 9]\n",
    "print(even_numbers(sample_list))  # Expected Output: [2, 4, 6, 8]"
   ]
  },
  {
   "cell_type": "code",
   "execution_count": null,
   "id": "f35624b7",
   "metadata": {},
   "outputs": [],
   "source": [
    "def is_perfect_number(num):\n",
    "    divisors = [i for i in range(1, num) if num % i == 0]\n",
    "    return sum(divisors) == num\n",
    "\n",
    "# Example usage:\n",
    "print(is_perfect_number(6))  # Expected Output: True"
   ]
  },
  {
   "cell_type": "code",
   "execution_count": null,
   "id": "b1b80335",
   "metadata": {},
   "outputs": [],
   "source": [
    "def is_palindrome(s):\n",
    "    s = s.replace(\" \", \"\").lower()\n",
    "    return s == s[::-1]\n",
    "\n",
    "# Example usage:\n",
    "print(is_palindrome(\"madam\"))  # Expected Output: True\n",
    "print(is_palindrome(\"nurses run\"))  # Expected Output: True"
   ]
  }
 ],
 "metadata": {},
 "nbformat": 4,
 "nbformat_minor": 5
}
