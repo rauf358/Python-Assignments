{
 "cells": [
  {
   "cell_type": "markdown",
   "id": "b17132c4",
   "metadata": {},
   "source": [
    "### Check if a number is even or odd"
   ]
  },
  {
   "cell_type": "code",
   "execution_count": null,
   "id": "527b5a11",
   "metadata": {},
   "outputs": [],
   "source": [
    "number = int(input(\"Enter a number: \"))\n",
    "if number % 2 == 0:\n",
    "    print(\"The number is even.\")\n",
    "else:\n",
    "    print(\"The number is odd.\")"
   ]
  },
  {
   "cell_type": "markdown",
   "id": "531f068e",
   "metadata": {},
   "source": [
    "### Check voting eligibility"
   ]
  },
  {
   "cell_type": "code",
   "execution_count": null,
   "id": "188e70d3",
   "metadata": {},
   "outputs": [],
   "source": [
    "age = int(input(\"Enter your age: \"))\n",
    "if age >= 18:\n",
    "    print(\"You are eligible to vote.\")\n",
    "else:\n",
    "    print(\"You are not eligible to vote yet.\")"
   ]
  },
  {
   "cell_type": "markdown",
   "id": "225fad21",
   "metadata": {},
   "source": [
    "### Find the largest of two integers"
   ]
  },
  {
   "cell_type": "code",
   "execution_count": null,
   "id": "341e0c3a",
   "metadata": {},
   "outputs": [],
   "source": [
    "num1 = int(input(\"Enter the first number: \"))\n",
    "num2 = int(input(\"Enter the second number: \"))\n",
    "if num1 > num2:\n",
    "    print(\"The largest number is:\", num1)\n",
    "else:\n",
    "    print(\"The largest number is:\", num2)"
   ]
  },
  {
   "cell_type": "markdown",
   "id": "40668d03",
   "metadata": {},
   "source": [
    "### Check if a number is positive, negative, or zero"
   ]
  },
  {
   "cell_type": "code",
   "execution_count": null,
   "id": "c9a056d4",
   "metadata": {},
   "outputs": [],
   "source": [
    "number = float(input(\"Enter a number: \"))\n",
    "if number > 0:\n",
    "    print(\"Positive\")\n",
    "elif number < 0:\n",
    "    print(\"Negative\")\n",
    "else:\n",
    "    print(\"Zero\")"
   ]
  },
  {
   "cell_type": "markdown",
   "id": "d3d8e670",
   "metadata": {},
   "source": [
    "### Categorize age into groups"
   ]
  },
  {
   "cell_type": "code",
   "execution_count": null,
   "id": "1caa75cb",
   "metadata": {},
   "outputs": [],
   "source": [
    "age = int(input(\"Enter your age: \"))\n",
    "if 0 <= age <= 12:\n",
    "    print(\"Child\")\n",
    "elif 13 <= age <= 19:\n",
    "    print(\"Teenager\")\n",
    "elif 20 <= age <= 59:\n",
    "    print(\"Adult\")\n",
    "elif age >= 60:\n",
    "    print(\"Senior Citizen\")\n",
    "else:\n",
    "    print(\"Invalid age entered.\")"
   ]
  },
  {
   "cell_type": "markdown",
   "id": "79551a2f",
   "metadata": {},
   "source": [
    "### Day of the week based on input"
   ]
  },
  {
   "cell_type": "code",
   "execution_count": null,
   "id": "4cd2dbdb",
   "metadata": {},
   "outputs": [],
   "source": [
    "day = int(input(\"Enter a number (1-7): \"))\n",
    "days = {1: \"Sunday\", 2: \"Monday\", 3: \"Tuesday\", 4: \"Wednesday\", 5: \"Thursday\", 6: \"Friday\", 7: \"Saturday\"}\n",
    "if 1 <= day <= 7:\n",
    "    print(\"The day is:\", days[day])\n",
    "else:\n",
    "    print(\"Error: Enter a number between 1 and 7.\")"
   ]
  },
  {
   "cell_type": "markdown",
   "id": "fa581f7d",
   "metadata": {},
   "source": [
    "### Calculate BMI and classify"
   ]
  },
  {
   "cell_type": "code",
   "execution_count": null,
   "id": "c1e5dd63",
   "metadata": {},
   "outputs": [],
   "source": [
    "weight = float(input(\"Enter your weight (kg): \"))\n",
    "height = float(input(\"Enter your height (m): \"))\n",
    "bmi = weight / (height ** 2)\n",
    "if bmi < 18.5:\n",
    "    print(\"Underweight\")\n",
    "elif 18.5 <= bmi <= 24.9:\n",
    "    print(\"Normal weight\")\n",
    "elif 25 <= bmi <= 29.9:\n",
    "    print(\"Overweight\")\n",
    "else:\n",
    "    print(\"Obesity\")"
   ]
  },
  {
   "cell_type": "markdown",
   "id": "648b9d9c",
   "metadata": {},
   "source": [
    "### Calculate grade based on average marks"
   ]
  },
  {
   "cell_type": "code",
   "execution_count": null,
   "id": "e97f8c1a",
   "metadata": {},
   "outputs": [],
   "source": [
    "marks = [float(input(f\"Enter marks for subject {i+1}: \")) for i in range(3)]\n",
    "average = sum(marks) / 3\n",
    "if 90 <= average <= 100:\n",
    "    print(\"Grade: A\")\n",
    "elif 80 <= average < 90:\n",
    "    print(\"Grade: B\")\n",
    "elif 70 <= average < 80:\n",
    "    print(\"Grade: C\")\n",
    "elif 60 <= average < 70:\n",
    "    print(\"Grade: D\")\n",
    "else:\n",
    "    print(\"Grade: F\")"
   ]
  },
  {
   "cell_type": "markdown",
   "id": "ce2787d2",
   "metadata": {},
   "source": [
    "### Find roots of a quadratic equation"
   ]
  },
  {
   "cell_type": "code",
   "execution_count": null,
   "id": "09b228a0",
   "metadata": {},
   "outputs": [],
   "source": [
    "import cmath\n",
    "a = float(input(\"Enter coefficient a: \"))\n",
    "b = float(input(\"Enter coefficient b: \"))\n",
    "c = float(input(\"Enter constant c: \"))\n",
    "discriminant = (b ** 2) - (4 * a * c)\n",
    "root1 = (-b + cmath.sqrt(discriminant)) / (2 * a)\n",
    "root2 = (-b - cmath.sqrt(discriminant)) / (2 * a)\n",
    "print(\"Roots of the equation are:\", root1, \"and\", root2)"
   ]
  },
  {
   "cell_type": "markdown",
   "id": "59a098da",
   "metadata": {},
   "source": [
    "### Sort three numbers in ascending order"
   ]
  },
  {
   "cell_type": "code",
   "execution_count": null,
   "id": "67d02b20",
   "metadata": {},
   "outputs": [],
   "source": [
    "numbers = [float(input(f\"Enter number {i+1}: \")) for i in range(3)]\n",
    "numbers.sort()\n",
    "print(\"Sorted numbers:\", numbers)"
   ]
  },
  {
   "cell_type": "markdown",
   "id": "c3690601",
   "metadata": {},
   "source": [
    "### Find the largest of three integers"
   ]
  },
  {
   "cell_type": "code",
   "execution_count": null,
   "id": "225f8d83",
   "metadata": {},
   "outputs": [],
   "source": [
    "nums = [int(input(f\"Enter number {i+1}: \")) for i in range(3)]\n",
    "print(\"The largest number is:\", max(nums))"
   ]
  },
  {
   "cell_type": "markdown",
   "id": "1b3bec1e",
   "metadata": {},
   "source": [
    "### Check if a character is vowel or consonant"
   ]
  },
  {
   "cell_type": "code",
   "execution_count": null,
   "id": "04003076",
   "metadata": {},
   "outputs": [],
   "source": [
    "char = input(\"Enter a character: \").lower()\n",
    "if char in 'aeiou':\n",
    "    print(\"Vowel\")\n",
    "elif char.isalpha():\n",
    "    print(\"Consonant\")\n",
    "else:\n",
    "    print(\"Invalid input\")"
   ]
  },
  {
   "cell_type": "markdown",
   "id": "9b139316",
   "metadata": {},
   "source": [
    "### Check if a year is a leap year"
   ]
  },
  {
   "cell_type": "code",
   "execution_count": null,
   "id": "f7fcb68d",
   "metadata": {},
   "outputs": [],
   "source": [
    "year = int(input(\"Enter a year: \"))\n",
    "if (year % 4 == 0 and year % 100 != 0) or (year % 400 == 0):\n",
    "    print(\"Leap Year\")\n",
    "else:\n",
    "    print(\"NOT a Leap Year\")"
   ]
  },
  {
   "cell_type": "markdown",
   "id": "e47fe3e6",
   "metadata": {},
   "source": [
    "### Calculate telephone bill based on calls"
   ]
  },
  {
   "cell_type": "code",
   "execution_count": null,
   "id": "afd34759",
   "metadata": {},
   "outputs": [],
   "source": [
    "calls = int(input(\"Enter the number of calls: \"))\n",
    "if calls <= 100:\n",
    "    bill = 200\n",
    "elif calls <= 150:\n",
    "    bill = 200 + (calls - 100) * 0.60\n",
    "elif calls <= 200:\n",
    "    bill = 200 + 50 * 0.60 + (calls - 150) * 0.50\n",
    "else:\n",
    "    bill = 200 + 50 * 0.60 + 50 * 0.50 + (calls - 200) * 0.40\n",
    "print(\"Your bill is: Rs.\", bill)"
   ]
  }
 ],
 "metadata": {},
 "nbformat": 4,
 "nbformat_minor": 5
}
