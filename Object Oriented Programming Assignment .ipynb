{
 "cells": [
  {
   "cell_type": "code",
   "execution_count": 1,
   "id": "96cc73f9",
   "metadata": {},
   "outputs": [],
   "source": [
    "class Person():\n",
    "    def __init__(self,name,age,countyr):\n",
    "        self.name=name\n",
    "        self.age=age\n",
    "        self.countyr=countyr\n",
    "    def details(self):\n",
    "        print(f'{self.name} \\n age:{self.age} country:{self.countyr}')\n"
   ]
  },
  {
   "cell_type": "code",
   "execution_count": 2,
   "id": "8dc55870",
   "metadata": {},
   "outputs": [],
   "source": [
    "p1=Person('Rauf',22,'Pakistan')\n",
    "p2=Person(\"Samad\",21,\"Pakistan\")"
   ]
  },
  {
   "cell_type": "code",
   "execution_count": 4,
   "id": "c206b501",
   "metadata": {},
   "outputs": [],
   "source": [
    "class Rectangle():\n",
    "    def __init__(self,width,heigth):\n",
    "        self.width=width\n",
    "        self.heigth=heigth\n",
    "    def rectangle_area(self):\n",
    "        area= self.width*self.heigth\n",
    "        return f'area:{area}'\n",
    "    def  perimeter(self):\n",
    "        peri=2*self.width+2*self.heigth\n",
    "        return f'perimeter:{peri}'"
   ]
  },
  {
   "cell_type": "code",
   "execution_count": 5,
   "id": "d92b46c3",
   "metadata": {},
   "outputs": [],
   "source": [
    "r1=Rectangle(21,32)"
   ]
  },
  {
   "cell_type": "code",
   "execution_count": 6,
   "id": "6e10f075",
   "metadata": {},
   "outputs": [
    {
     "data": {
      "text/plain": [
       "'area:672'"
      ]
     },
     "execution_count": 6,
     "metadata": {},
     "output_type": "execute_result"
    }
   ],
   "source": [
    "r1.rectangle_area()"
   ]
  },
  {
   "cell_type": "code",
   "execution_count": 7,
   "id": "de56571b",
   "metadata": {},
   "outputs": [
    {
     "data": {
      "text/plain": [
       "'perimeter:106'"
      ]
     },
     "execution_count": 7,
     "metadata": {},
     "output_type": "execute_result"
    }
   ],
   "source": [
    "r1.perimeter()"
   ]
  },
  {
   "cell_type": "code",
   "execution_count": 8,
   "id": "aa7bb84b",
   "metadata": {},
   "outputs": [],
   "source": [
    "class Vehicle():\n",
    "    def __init__(self,make,model,year):\n",
    "        self.make=make\n",
    "        self.model=model\n",
    "        self.year=year\n",
    "    def details(self):\n",
    "        print(f'car make:{self.make}\\n model:{self.model}\\n year:{self.year}')"
   ]
  },
  {
   "cell_type": "code",
   "execution_count": 30,
   "id": "33c970fa",
   "metadata": {},
   "outputs": [],
   "source": [
    "class Car(Vehicle):\n",
    "    def __init__(self,make,model,year,nums_of_door):\n",
    "        super().__init__(make,model,year)\n",
    "        self.make=make\n",
    "        self.model=model\n",
    "        self.year=year\n",
    "        self.nums_of_door=nums_of_door\n",
    "    def details(self):\n",
    "        print(f'car make:{self.make}\\n model:{self.model}\\n year:{self.year} \\nnums of doors:{self.nums_of_door}')"
   ]
  },
  {
   "cell_type": "code",
   "execution_count": 31,
   "id": "26cebbd7",
   "metadata": {},
   "outputs": [],
   "source": [
    "c1=Car('honda',2021,2020,3)"
   ]
  },
  {
   "cell_type": "code",
   "execution_count": 32,
   "id": "ae602c28",
   "metadata": {},
   "outputs": [
    {
     "name": "stdout",
     "output_type": "stream",
     "text": [
      "car make:honda\n",
      " model:2021\n",
      " year:2020 \n",
      "nums of doors:3\n"
     ]
    }
   ],
   "source": [
    "c1.details()"
   ]
  },
  {
   "cell_type": "code",
   "execution_count": 38,
   "id": "80161bef",
   "metadata": {},
   "outputs": [],
   "source": [
    "class BankAccount():\n",
    "    def __init__(self,accountnumber,balance):\n",
    "        self.accountnumber=accountnumber\n",
    "        self.balance=balance\n",
    "    def deposit(self,sub):\n",
    "        self.balance=self.balance+sub\n",
    "        return f'new balance:${self.balance}'\n",
    "    def withdraw(self,sub):\n",
    "        self.balance=self.balance-sub\n",
    "        return f'new balance:${self.balance}'"
   ]
  },
  {
   "cell_type": "code",
   "execution_count": 39,
   "id": "f3edaf62",
   "metadata": {},
   "outputs": [],
   "source": [
    "b1=BankAccount(242323-2324,1234)"
   ]
  },
  {
   "cell_type": "code",
   "execution_count": 40,
   "id": "7d5c63d1",
   "metadata": {},
   "outputs": [],
   "source": [
    "b2=BankAccount(2426643-2324,1234121)"
   ]
  },
  {
   "cell_type": "code",
   "execution_count": 42,
   "id": "90a0f90e",
   "metadata": {},
   "outputs": [
    {
     "data": {
      "text/plain": [
       "'new balance:$1234444'"
      ]
     },
     "execution_count": 42,
     "metadata": {},
     "output_type": "execute_result"
    }
   ],
   "source": [
    "b2.deposit(323)"
   ]
  },
  {
   "cell_type": "code",
   "execution_count": 43,
   "id": "9d4fd3ea",
   "metadata": {},
   "outputs": [],
   "source": [
    "class Shape:\n",
    "    def area(self):\n",
    "        return (\"Subclasses must override this method\")\n",
    "\n",
    "class Circle(Shape):\n",
    "    def __init__(self, radius):\n",
    "        self.radius = radius\n",
    "\n",
    "    def area(self):\n",
    "        return 3.14159 * self.radius ** 2\n",
    "\n",
    "class Triangle(Shape):\n",
    "    def __init__(self, base, height):\n",
    "        self.base = base\n",
    "        self.height = height\n",
    "\n",
    "    def area(self):\n",
    "        return 0.5 * self.base * self.height\n",
    "\n"
   ]
  },
  {
   "cell_type": "code",
   "execution_count": 44,
   "id": "dcef1e62",
   "metadata": {},
   "outputs": [
    {
     "name": "stdout",
     "output_type": "stream",
     "text": [
      "Area of Circle: 78.53975\n",
      "Area of Triangle: 6.0\n"
     ]
    }
   ],
   "source": [
    "circle = Circle(radius=5)\n",
    "print(\"Area of Circle:\", circle.area())\n",
    "\n",
    "triangle = Triangle(base=4, height=3)\n",
    "print(\"Area of Triangle:\", triangle.area())"
   ]
  },
  {
   "cell_type": "code",
   "execution_count": 45,
   "id": "d6f239c0",
   "metadata": {},
   "outputs": [],
   "source": [
    "class Employee():\n",
    "    def __init__(self,name,salery):\n",
    "        self.name=name\n",
    "        self.salery=salery\n",
    "    def annual_salery(self):\n",
    "        return f'Annual salery:{self.salery*12}' "
   ]
  },
  {
   "cell_type": "code",
   "execution_count": 49,
   "id": "7fdb18d6",
   "metadata": {},
   "outputs": [],
   "source": [
    "class Manager(Employee):\n",
    "    def __init__(self,name,salery,bonus):\n",
    "        super().__init__(name,salery)\n",
    "        self.name=name\n",
    "        self.salery=salery\n",
    "        self.bonus=bonus\n",
    "    def annual_salery(self):\n",
    "        return f'Annual salery + bonus:{self.salery*12 +self.bonus}'"
   ]
  },
  {
   "cell_type": "code",
   "execution_count": 50,
   "id": "058f9871",
   "metadata": {},
   "outputs": [],
   "source": [
    "m1=Manager('nraa',12000,200)"
   ]
  },
  {
   "cell_type": "code",
   "execution_count": 51,
   "id": "cadb2c8f",
   "metadata": {},
   "outputs": [
    {
     "data": {
      "text/plain": [
       "'Annual salery + bonus:144200'"
      ]
     },
     "execution_count": 51,
     "metadata": {},
     "output_type": "execute_result"
    }
   ],
   "source": [
    "m1.annual_salery()"
   ]
  },
  {
   "cell_type": "code",
   "execution_count": 52,
   "id": "a29d8532",
   "metadata": {},
   "outputs": [],
   "source": [
    "class Book:\n",
    "    def __init__(self, title, author, publication_year):\n",
    "        self.title = title\n",
    "        self.author = author\n",
    "        self.publication_year = publication_year\n",
    "\n",
    "    def display_details(self):\n",
    "        print(f\"Title: {self.title}\")\n",
    "        print(f\"Author: {self.author}\")\n",
    "        print(f\"Publication Year: {self.publication_year}\")\n",
    "\n",
    "class Ebook(Book):\n",
    "    def __init__(self, title, author, publication_year, price):\n",
    "        super().__init__(title, author, publication_year)\n",
    "        self.price = price\n",
    "\n",
    "    def display_details(self):\n",
    "        super().display_details()\n",
    "        print(f\"Price: ${self.price:.2f}\")\n"
   ]
  },
  {
   "cell_type": "code",
   "execution_count": 53,
   "id": "ed68d3d6",
   "metadata": {},
   "outputs": [
    {
     "name": "stdout",
     "output_type": "stream",
     "text": [
      "Title: Python Programming\n",
      "Author: farwa\n",
      "Publication Year: 2023\n",
      "Price: $15.99\n"
     ]
    }
   ],
   "source": [
    "\n",
    "my_ebook = Ebook(\"Python Programming\", \"farwa\", 2023, 15.99)\n",
    "\n",
    "my_ebook.display_details()\n"
   ]
  },
  {
   "cell_type": "code",
   "execution_count": 82,
   "id": "80d3e439",
   "metadata": {},
   "outputs": [],
   "source": [
    "class Animal():\n",
    "    def __init__(self,species , sound):\n",
    "        self.species =species \n",
    "        self.sound=sound\n",
    "        \n",
    "    def animal_sound(self):\n",
    "        print(f'The {self.species} goes {self.sound}')"
   ]
  },
  {
   "cell_type": "code",
   "execution_count": 86,
   "id": "d24b2289",
   "metadata": {},
   "outputs": [],
   "source": [
    "class Dog(Animal):\n",
    "    def __init__(self,species,sound,color):\n",
    "        super().__init__(species,sound)\n",
    "        self.color=color\n",
    "    def dogs_sound(self):\n",
    "        super().animal_sound()\n",
    "        print(f'the dog color is {self.color}')"
   ]
  },
  {
   "cell_type": "code",
   "execution_count": 87,
   "id": "73b3aa4e",
   "metadata": {},
   "outputs": [],
   "source": [
    "d1=Dog('dog','woof woof','Broun')"
   ]
  },
  {
   "cell_type": "code",
   "execution_count": 88,
   "id": "a5267ce8",
   "metadata": {},
   "outputs": [
    {
     "name": "stdout",
     "output_type": "stream",
     "text": [
      "The dog goes woof woof\n",
      "the dog color is Broun\n"
     ]
    }
   ],
   "source": [
    "d1.dogs_sound()"
   ]
  },
  {
   "cell_type": "code",
   "execution_count": 91,
   "id": "d9574aa3",
   "metadata": {},
   "outputs": [],
   "source": [
    "class Bank():\n",
    "    def __init__(self,bank_names,branches=[]):\n",
    "        self.bank_names=bank_names\n",
    "        self.branches=[branches]\n",
    "    def add_branch(self,b):\n",
    "         self.branches.append(b)\n",
    "    def remove_branch(self,b):\n",
    "         self.branches.remove(b)\n",
    "    def display_branches(self):\n",
    "        for i in self.branches:\n",
    "            print(i)\n",
    "    "
   ]
  },
  {
   "cell_type": "code",
   "execution_count": 92,
   "id": "5b103899",
   "metadata": {},
   "outputs": [],
   "source": [
    "b1=Bank(\"bank AL habib\",'Gulshan bracnhe')"
   ]
  },
  {
   "cell_type": "code",
   "execution_count": 94,
   "id": "40a9be69",
   "metadata": {},
   "outputs": [],
   "source": [
    "b1.add_branch(\"maymar bracnh\")"
   ]
  },
  {
   "cell_type": "code",
   "execution_count": 95,
   "id": "dfe8e304",
   "metadata": {},
   "outputs": [
    {
     "name": "stdout",
     "output_type": "stream",
     "text": [
      "Gulshan bracnhe\n",
      "maymar bracnh\n"
     ]
    }
   ],
   "source": [
    "b1.display_branches()"
   ]
  },
  {
   "cell_type": "code",
   "execution_count": 96,
   "id": "f5875299",
   "metadata": {},
   "outputs": [],
   "source": [
    "class Product():\n",
    "    def __init__(self,product_id,name,price):\n",
    "        self.product_id=product_id\n",
    "        self.name=name\n",
    "        self.price=price\n",
    "    def total_price(self,qunatity):\n",
    "        return  f'total price :{self.price*qunatity}'"
   ]
  },
  {
   "cell_type": "code",
   "execution_count": 100,
   "id": "da10ff18",
   "metadata": {},
   "outputs": [],
   "source": [
    "class PersonalCareProduct(Product):\n",
    "    def __init__(self,product_id,name,price,warranty_period):\n",
    "        super().__init__(product_id,name,price)\n",
    "        self.warranty_period=warranty_period\n",
    "    def total_price(self,qunatity):\n",
    "        return  f'total price :{self.price*qunatity*self.warranty_period}'"
   ]
  },
  {
   "cell_type": "code",
   "execution_count": 101,
   "id": "b215d703",
   "metadata": {},
   "outputs": [],
   "source": [
    "p1=PersonalCareProduct('123w-dd','tomato',23,23)"
   ]
  },
  {
   "cell_type": "code",
   "execution_count": 102,
   "id": "aa687fe2",
   "metadata": {},
   "outputs": [
    {
     "data": {
      "text/plain": [
       "'total price :6348'"
      ]
     },
     "execution_count": 102,
     "metadata": {},
     "output_type": "execute_result"
    }
   ],
   "source": [
    "p1.total_price(12)"
   ]
  },
  {
   "cell_type": "code",
   "execution_count": 103,
   "id": "6558c6fd",
   "metadata": {},
   "outputs": [],
   "source": [
    "class Bank():\n",
    "    def __init__(self,name):\n",
    "        \n",
    "        self.name=name\n",
    "        self.__balance=0.0\n",
    "        self.__transactions=[]\n",
    "\n",
    "    def create_account(self):\n",
    "        account = {\n",
    "            \n",
    "            'name' : self.name,\n",
    "            'balance':self.__balance,\n",
    "            'transactions':self.__transactions\n",
    "            \n",
    "        }\n",
    "        return print(account)\n",
    "    \n",
    "    def deposit(self,amount):\n",
    "        \n",
    "        self.__balance=+amount\n",
    "        self.__transactions.append(f'the amount deposited is {amount}')\n",
    "        \n",
    "        return print(f\"You current balance is {self.__balance}\")\n",
    "   \n",
    "    def withdrawl(self,amount):\n",
    "        \n",
    "        if amount < 0 :\n",
    "            print(\"Please enter  positive amount\")\n",
    "            return 0\n",
    "        elif (self.__balance-amount) < 0:\n",
    "            print(\"Insufficient Balance\")\n",
    "            return 0\n",
    "        else:\n",
    "            self.__balance=-amount\n",
    "            self.__transactions.append(f'the amount withdrawed is {amount}')\n",
    "        \n",
    "        return print(f\"You current balance is {self.__balance}\")\n",
    "    def check_balance(self):\n",
    "        return print(f\"You current balance is {self.__balance}\")\n"
   ]
  },
  {
   "cell_type": "code",
   "execution_count": null,
   "id": "d529c418",
   "metadata": {},
   "outputs": [],
   "source": []
  }
 ],
 "metadata": {
  "kernelspec": {
   "display_name": "Python 3 (ipykernel)",
   "language": "python",
   "name": "python3"
  },
  "language_info": {
   "codemirror_mode": {
    "name": "ipython",
    "version": 3
   },
   "file_extension": ".py",
   "mimetype": "text/x-python",
   "name": "python",
   "nbconvert_exporter": "python",
   "pygments_lexer": "ipython3",
   "version": "3.11.4"
  }
 },
 "nbformat": 4,
 "nbformat_minor": 5
}
