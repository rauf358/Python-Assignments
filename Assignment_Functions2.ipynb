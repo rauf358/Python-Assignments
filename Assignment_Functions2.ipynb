{
 "cells": [
  {
   "cell_type": "code",
   "execution_count": null,
   "id": "89bf47e7",
   "metadata": {},
   "outputs": [],
   "source": [
    "def find_divisible_by_7_not_5(start=2000, end=3200):\n",
    "    return ','.join(str(x) for x in range(start, end + 1) if x % 7 == 0 and x % 5 != 0)\n",
    "\n",
    "# Example usage:\n",
    "print(find_divisible_by_7_not_5())"
   ]
  },
  {
   "cell_type": "code",
   "execution_count": null,
   "id": "18aa8e1a",
   "metadata": {},
   "outputs": [],
   "source": [
    "import math\n",
    "\n",
    "def calculate_p(c_values):\n",
    "    A, B = 50, 30\n",
    "    result = [int(math.sqrt((2 * A * B) / int(c))) for c in c_values.split(',')]\n",
    "    return ','.join(map(str, result))\n",
    "\n",
    "# Example usage:\n",
    "c_values = \"100,150,180\"\n",
    "print(calculate_p(c_values))  # Expected Output: 18,22,24"
   ]
  },
  {
   "cell_type": "code",
   "execution_count": null,
   "id": "0105267d",
   "metadata": {},
   "outputs": [],
   "source": [
    "def sort_words_alphabetically(words):\n",
    "    return ','.join(sorted(words.split(',')))\n",
    "\n",
    "# Example usage:\n",
    "input_words = \"without,hello,bag,world\"\n",
    "print(sort_words_alphabetically(input_words))  # Expected Output: bag,hello,without,world"
   ]
  },
  {
   "cell_type": "code",
   "execution_count": null,
   "id": "b86470c2",
   "metadata": {},
   "outputs": [],
   "source": [
    "def capitalize_lines(lines):\n",
    "    return '\\n'.join(line.upper() for line in lines.splitlines())\n",
    "\n",
    "# Example usage:\n",
    "input_lines = \"Hello world\\nPractice makes perfect\"\n",
    "print(capitalize_lines(input_lines))"
   ]
  },
  {
   "cell_type": "code",
   "execution_count": null,
   "id": "56a98fcb",
   "metadata": {},
   "outputs": [],
   "source": [
    "def count_vowels(sentence):\n",
    "    vowels = 'aeiou'\n",
    "    counts = {vowel: sentence.lower().count(vowel) for vowel in vowels}\n",
    "    for vowel, count in counts.items():\n",
    "        print(f\"{vowel} appeared {count} times\")\n",
    "\n",
    "# Example usage:\n",
    "input_sentence = \"Hello world\\nPractice makes perfect\"\n",
    "count_vowels(input_sentence)"
   ]
  },
  {
   "cell_type": "code",
   "execution_count": null,
   "id": "f0703805",
   "metadata": {},
   "outputs": [],
   "source": [
    "def find_all_even_digit_numbers(start=1000, end=3000):\n",
    "    return [x for x in range(start, end + 1) if all(int(digit) % 2 == 0 for digit in str(x))]\n",
    "\n",
    "# Example usage:\n",
    "print(find_all_even_digit_numbers())"
   ]
  },
  {
   "cell_type": "code",
   "execution_count": null,
   "id": "b7167611",
   "metadata": {},
   "outputs": [],
   "source": [
    "def find_binary_divisible_by_5(binary_numbers):\n",
    "    return ','.join(b for b in binary_numbers.split(',') if int(b, 2) % 5 == 0)\n",
    "\n",
    "# Example usage:\n",
    "binary_input = \"0100,0011,1010,1001\"\n",
    "print(find_binary_divisible_by_5(binary_input))  # Expected Output: 1010"
   ]
  },
  {
   "cell_type": "code",
   "execution_count": null,
   "id": "1614847a",
   "metadata": {},
   "outputs": [],
   "source": [
    "def count_letters_and_digits(sentence):\n",
    "    letters = sum(char.isalpha() for char in sentence)\n",
    "    digits = sum(char.isdigit() for char in sentence)\n",
    "    print(f\"LETTERS {letters}\")\n",
    "    print(f\"DIGITS {digits}\")\n",
    "\n",
    "# Example usage:\n",
    "input_sentence = \"hello world! 123\"\n",
    "count_letters_and_digits(input_sentence)"
   ]
  }
 ],
 "metadata": {},
 "nbformat": 4,
 "nbformat_minor": 5
}
