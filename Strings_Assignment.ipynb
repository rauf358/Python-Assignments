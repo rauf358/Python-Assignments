{
 "cells": [
  {
   "cell_type": "markdown",
   "id": "cbaf2483",
   "metadata": {},
   "source": [
    "# Strings Assignment Solutions"
   ]
  },
  {
   "cell_type": "code",
   "execution_count": null,
   "id": "5a727db1",
   "metadata": {},
   "outputs": [],
   "source": [
    "\n",
    "# Problem 1: Count and display the number of vowels in a string\n",
    "string = input(\"Enter a string: \")\n",
    "vowels = 'aeiouAEIOU'\n",
    "count = sum(1 for char in string if char in vowels)\n",
    "print(f\"Number of vowels in the string: {count}\")\n"
   ]
  },
  {
   "cell_type": "code",
   "execution_count": null,
   "id": "880e8864",
   "metadata": {},
   "outputs": [],
   "source": [
    "\n",
    "# Problem 2: Display count of uppercase, lowercase, digits, and whitespaces in a string\n",
    "string = input(\"Enter a string: \")\n",
    "upper = sum(1 for char in string if char.isupper())\n",
    "lower = sum(1 for char in string if char.islower())\n",
    "digits = sum(1 for char in string if char.isdigit())\n",
    "whitespace = sum(1 for char in string if char.isspace())\n",
    "print(f\"Uppercase letters: {upper}, Lowercase letters: {lower}, Digits: {digits}, Whitespace: {whitespace}\")\n"
   ]
  },
  {
   "cell_type": "code",
   "execution_count": null,
   "id": "fad1dbf0",
   "metadata": {},
   "outputs": [],
   "source": [
    "\n",
    "# Problem 3: Create a new string with the first and last characters exchanged\n",
    "string = input(\"Enter a string: \")\n",
    "if len(string) > 1:\n",
    "    new_string = string[-1] + string[1:-1] + string[0]\n",
    "else:\n",
    "    new_string = string  # No change for single-character strings\n",
    "print(f\"New string: {new_string}\")\n"
   ]
  },
  {
   "cell_type": "code",
   "execution_count": null,
   "id": "23ffaa09",
   "metadata": {},
   "outputs": [],
   "source": [
    "\n",
    "# Problem 4: Create a new string in reverse of the first string\n",
    "string = input(\"Enter a string: \")\n",
    "reversed_string = string[::-1]\n",
    "print(f\"Reversed string: {reversed_string}\")\n"
   ]
  },
  {
   "cell_type": "code",
   "execution_count": null,
   "id": "86aab2f7",
   "metadata": {},
   "outputs": [],
   "source": [
    "\n",
    "# Problem 5: Create a new string by shifting one position to the left\n",
    "string = input(\"Enter a string: \")\n",
    "if len(string) > 1:\n",
    "    new_string = string[1:] + string[0]\n",
    "else:\n",
    "    new_string = string  # No change for single-character strings\n",
    "print(f\"Shifted string: {new_string}\")\n"
   ]
  },
  {
   "cell_type": "code",
   "execution_count": null,
   "id": "ba58fae3",
   "metadata": {},
   "outputs": [],
   "source": [
    "\n",
    "# Problem 6: Print initials of the user's full name\n",
    "name = input(\"Enter your full name (first, middle, last): \")\n",
    "initials = \"\".join([name[0] + \". \" if i == 0 or name[i-1] == ' ' else '' for i in range(len(name))])\n",
    "print(f\"Initials: {initials.strip()}\")\n"
   ]
  },
  {
   "cell_type": "code",
   "execution_count": null,
   "id": "2313f838",
   "metadata": {},
   "outputs": [],
   "source": [
    "\n",
    "# Problem 7: Check if a string is a palindrome\n",
    "string = input(\"Enter a string: \")\n",
    "is_palindrome = string == string[::-1]\n",
    "print(f\"Is the string a palindrome? {'Yes' if is_palindrome else 'No'}\")\n"
   ]
  },
  {
   "cell_type": "code",
   "execution_count": null,
   "id": "f4443201",
   "metadata": {},
   "outputs": [],
   "source": [
    "\n",
    "# Problem 8: Display cyclic shifts of the string \"SHIFT\"\n",
    "string = \"SHIFT\"\n",
    "for i in range(len(string)):\n",
    "    print(string[i:] + string[:i])\n"
   ]
  },
  {
   "cell_type": "code",
   "execution_count": null,
   "id": "efe14b8b",
   "metadata": {},
   "outputs": [],
   "source": [
    "\n",
    "# Problem 9: Validate password according to the given criteria\n",
    "password = input(\"Enter a password: \")\n",
    "valid = (len(password) >= 8 and \n",
    "         any(char.isupper() for char in password) and \n",
    "         any(char.islower() for char in password) and \n",
    "         any(char.isdigit() for char in password))\n",
    "\n",
    "if valid:\n",
    "    print(\"Password is valid.\")\n",
    "else:\n",
    "    print(\"Password is invalid.\")\n"
   ]
  }
 ],
 "metadata": {},
 "nbformat": 4,
 "nbformat_minor": 5
}
