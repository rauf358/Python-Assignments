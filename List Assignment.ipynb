{
 "cells": [
  {
   "cell_type": "markdown",
   "id": "d863f43b",
   "metadata": {},
   "source": [
    " Alternate elements of a list"
   ]
  },
  {
   "cell_type": "code",
   "execution_count": 1,
   "id": "cfe4ed8a",
   "metadata": {},
   "outputs": [
    {
     "name": "stdout",
     "output_type": "stream",
     "text": [
      "Enter elements of the list separated by spaces: 2\n",
      "Alternate elements of the list: ['2']\n"
     ]
    }
   ],
   "source": [
    "# Program 1: Print alternate elements of a list\n",
    "user_input = input(\"Enter elements of the list separated by spaces: \")\n",
    "lst = user_input.split()\n",
    "print(\"Alternate elements of the list:\", lst[::2])\n"
   ]
  },
  {
   "cell_type": "markdown",
   "id": "f73db705",
   "metadata": {},
   "source": [
    "Reverse a list without reverse()"
   ]
  },
  {
   "cell_type": "code",
   "execution_count": null,
   "id": "7f66dcad",
   "metadata": {},
   "outputs": [],
   "source": [
    "# Program 2: Reverse a list\n",
    "user_input = input(\"Enter elements of the list separated by spaces: \")\n",
    "lst = user_input.split()\n",
    "reversed_list = lst[::-1]\n",
    "print(\"Reversed list:\", reversed_list)\n"
   ]
  },
  {
   "cell_type": "markdown",
   "id": "db7559f6",
   "metadata": {},
   "source": [
    "Largest number in a list"
   ]
  },
  {
   "cell_type": "code",
   "execution_count": null,
   "id": "43590d31",
   "metadata": {},
   "outputs": [],
   "source": [
    "# Program 3: Find largest number without max()\n",
    "user_input = input(\"Enter numbers separated by spaces: \")\n",
    "lst = list(map(int, user_input.split()))\n",
    "largest = lst[0]\n",
    "for num in lst:\n",
    "    if num > largest:\n",
    "        largest = num\n",
    "print(\"Largest number in the list:\", largest)\n"
   ]
  },
  {
   "cell_type": "markdown",
   "id": "066742e8",
   "metadata": {},
   "source": [
    "Rotate list elements"
   ]
  },
  {
   "cell_type": "code",
   "execution_count": null,
   "id": "34ca300f",
   "metadata": {},
   "outputs": [],
   "source": [
    "# Program 4: Rotate list elements\n",
    "user_input = input(\"Enter elements of the list separated by spaces: \")\n",
    "lst = user_input.split()\n",
    "rotated_list = lst[1:] + lst[:1]\n",
    "print(\"Rotated list:\", rotated_list)\n"
   ]
  },
  {
   "cell_type": "markdown",
   "id": "ee410dca",
   "metadata": {},
   "source": [
    "Delete a word from a string"
   ]
  },
  {
   "cell_type": "code",
   "execution_count": 2,
   "id": "b48edd02",
   "metadata": {},
   "outputs": [
    {
     "name": "stdout",
     "output_type": "stream",
     "text": [
      "Enter a string: asasad\n",
      "Enter the word to delete: sa\n",
      "String after deletion: ad\n"
     ]
    }
   ],
   "source": [
    "# Program 5: Delete a word from a string\n",
    "sentence = input(\"Enter a string: \")\n",
    "word_to_delete = input(\"Enter the word to delete: \")\n",
    "result = sentence.replace(word_to_delete, \"\").strip()\n",
    "print(\"String after deletion:\", result)\n"
   ]
  },
  {
   "cell_type": "markdown",
   "id": "ee12f58b",
   "metadata": {},
   "source": [
    "Convert date format\n"
   ]
  },
  {
   "cell_type": "code",
   "execution_count": null,
   "id": "49705ba6",
   "metadata": {},
   "outputs": [],
   "source": [
    "# Program 6: Convert date format\n",
    "date_input = input(\"Enter a date in mm/dd/yyyy format: \")\n",
    "months = [\"January\", \"February\", \"March\", \"April\", \"May\", \"June\", \n",
    "          \"July\", \"August\", \"September\", \"October\", \"November\", \"December\"]\n",
    "month, day, year = map(int, date_input.split('/'))\n",
    "print(f\"Date in new format: {months[month-1]} {day}, {year}\")\n"
   ]
  },
  {
   "cell_type": "markdown",
   "id": "ed04b8ee",
   "metadata": {},
   "source": [
    "Capitalize each word in a string"
   ]
  },
  {
   "cell_type": "code",
   "execution_count": 3,
   "id": "fa898cc8",
   "metadata": {},
   "outputs": [
    {
     "name": "stdout",
     "output_type": "stream",
     "text": [
      "Enter a sentence: asas\n",
      "Capitalized sentence: Asas\n"
     ]
    }
   ],
   "source": [
    "# Program 7: Capitalize each word\n",
    "sentence = input(\"Enter a sentence: \")\n",
    "capitalized = \" \".join(word.capitalize() for word in sentence.split())\n",
    "print(\"Capitalized sentence:\", capitalized)\n"
   ]
  },
  {
   "cell_type": "markdown",
   "id": "0be47613",
   "metadata": {},
   "source": [
    "Add two matrices"
   ]
  },
  {
   "cell_type": "code",
   "execution_count": null,
   "id": "95899c8e",
   "metadata": {},
   "outputs": [],
   "source": [
    "\n",
    "n, m = map(int, input(\"Enter the dimensions of the matrices (n m): \").split())\n",
    "print(\"Enter elements of the first matrix:\")\n",
    "matrix1 = [list(map(int, input().split())) for _ in range(n)]\n",
    "print(\"Enter elements of the second matrix:\")\n",
    "matrix2 = [list(map(int, input().split())) for _ in range(n)]\n",
    "\n",
    "result = [[matrix1[i][j] + matrix2[i][j] for j in range(m)] for i in range(n)]\n",
    "print(\"Sum of the matrices:\")\n",
    "for row in result:\n",
    "    print(\" \".join(map(str, row)))\n"
   ]
  },
  {
   "cell_type": "markdown",
   "id": "a531cbfa",
   "metadata": {},
   "source": [
    "Multiply two matrices"
   ]
  },
  {
   "cell_type": "code",
   "execution_count": null,
   "id": "1285de4a",
   "metadata": {},
   "outputs": [],
   "source": [
    "# Program 10: Multiply two matrices\n",
    "n, m, p = map(int, input(\"Enter dimensions of matrices (n m p): \").split())\n",
    "print(\"Enter elements of the first matrix:\")\n",
    "matrix1 = [list(map(int, input().split())) for _ in range(n)]\n",
    "print(\"Enter elements of the second matrix:\")\n",
    "matrix2 = [list(map(int, input().split())) for _ in range(m)]\n",
    "\n",
    "result = [[sum(matrix1[i][k] * matrix2[k][j] for k in range(m)) for j in range(p)] for i in range(n)]\n",
    "print(\"Product of the matrices:\")\n",
    "for row in result:\n",
    "    print(\" \".join(map(str, row)))\n"
   ]
  }
 ],
 "metadata": {
  "kernelspec": {
   "display_name": "Python 3 (ipykernel)",
   "language": "python",
   "name": "python3"
  },
  "language_info": {
   "codemirror_mode": {
    "name": "ipython",
    "version": 3
   },
   "file_extension": ".py",
   "mimetype": "text/x-python",
   "name": "python",
   "nbconvert_exporter": "python",
   "pygments_lexer": "ipython3",
   "version": "3.11.4"
  }
 },
 "nbformat": 4,
 "nbformat_minor": 5
}
