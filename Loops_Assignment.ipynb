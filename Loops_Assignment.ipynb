{
 "cells": [
  {
   "cell_type": "markdown",
   "id": "41dac76c",
   "metadata": {},
   "source": [
    "# Looping Structures Assignment"
   ]
  },
  {
   "cell_type": "code",
   "execution_count": null,
   "id": "e724b51d",
   "metadata": {},
   "outputs": [],
   "source": [
    "\n",
    "# Problem 1: Print numbers from 1 to 10 using a for loop\n",
    "for i in range(1, 11):\n",
    "    print(i)\n"
   ]
  },
  {
   "cell_type": "code",
   "execution_count": null,
   "id": "0282e7a9",
   "metadata": {},
   "outputs": [],
   "source": [
    "\n",
    "# Problem 2: Print numbers from 20 to 1 using a while loop\n",
    "i = 20\n",
    "while i >= 1:\n",
    "    print(i)\n",
    "    i -= 1\n"
   ]
  },
  {
   "cell_type": "code",
   "execution_count": null,
   "id": "2bf11ef7",
   "metadata": {},
   "outputs": [],
   "source": [
    "\n",
    "# Problem 3: Print even numbers from 1 to 10\n",
    "for i in range(1, 11):\n",
    "    if i % 2 == 0:\n",
    "        print(i)\n"
   ]
  },
  {
   "cell_type": "code",
   "execution_count": null,
   "id": "51b69afc",
   "metadata": {},
   "outputs": [],
   "source": [
    "\n",
    "# Problem 4: Print numbers from 1 to n\n",
    "n = int(input(\"Enter a number: \"))\n",
    "for i in range(1, n + 1):\n",
    "    print(i)\n"
   ]
  },
  {
   "cell_type": "code",
   "execution_count": null,
   "id": "4b8c8448",
   "metadata": {},
   "outputs": [],
   "source": [
    "\n",
    "# Problem 5: Print all odd numbers from 1 to n\n",
    "n = int(input(\"Enter a number: \"))\n",
    "for i in range(1, n + 1):\n",
    "    if i % 2 != 0:\n",
    "        print(i)\n"
   ]
  },
  {
   "cell_type": "code",
   "execution_count": null,
   "id": "eb86cd72",
   "metadata": {},
   "outputs": [],
   "source": [
    "\n",
    "# Problem 6: Print 'Happy Birthday!' five times\n",
    "for _ in range(5):\n",
    "    print(\"Happy Birthday!\")\n"
   ]
  },
  {
   "cell_type": "code",
   "execution_count": null,
   "id": "8deba07b",
   "metadata": {},
   "outputs": [],
   "source": [
    "\n",
    "# Problem 7: Generate the first n terms of the series formed by squaring natural numbers\n",
    "n = int(input(\"Enter a number: \"))\n",
    "print(f\"The first {n} terms of the series are:\")\n",
    "for i in range(1, n + 1):\n",
    "    print(i ** 2, end=\" \")\n"
   ]
  },
  {
   "cell_type": "code",
   "execution_count": null,
   "id": "55219ba6",
   "metadata": {},
   "outputs": [],
   "source": [
    "\n",
    "# Problem 8: Print the multiplication table of a given number\n",
    "num = int(input(\"Enter a number: \"))\n",
    "for i in range(1, 11):\n",
    "    print(f\"{num} x {i} = {num * i}\")\n"
   ]
  },
  {
   "cell_type": "code",
   "execution_count": null,
   "id": "c8f66f97",
   "metadata": {},
   "outputs": [],
   "source": [
    "\n",
    "# Problem 9: Print the first 8 terms of an arithmetic progression\n",
    "start = 3\n",
    "difference = 4\n",
    "terms = 8\n",
    "for i in range(terms):\n",
    "    print(start + i * difference, end=\" \")\n"
   ]
  },
  {
   "cell_type": "code",
   "execution_count": null,
   "id": "66ac28bd",
   "metadata": {},
   "outputs": [],
   "source": [
    "\n",
    "# Problem 10: Print the first 6 terms of a geometric sequence\n",
    "start = 2\n",
    "ratio = 3\n",
    "terms = 6\n",
    "value = start\n",
    "for _ in range(terms):\n",
    "    print(value, end=\" \")\n",
    "    value *= ratio\n"
   ]
  },
  {
   "cell_type": "code",
   "execution_count": null,
   "id": "a3df5b09",
   "metadata": {},
   "outputs": [],
   "source": [
    "\n",
    "# Problem 11: Calculate the sum of integers from 1 to a given number\n",
    "n = int(input(\"Enter a positive integer: \"))\n",
    "total = sum(range(1, n + 1))\n",
    "print(f\"The sum of integers from 1 to {n} is {total}\")\n"
   ]
  },
  {
   "cell_type": "code",
   "execution_count": null,
   "id": "7cbf14ac",
   "metadata": {},
   "outputs": [],
   "source": [
    "\n",
    "# Problem 12: Calculate the sum of reciprocals from 1 to N\n",
    "n = int(input(\"Enter a positive integer: \"))\n",
    "total = sum(1 / i for i in range(1, n + 1))\n",
    "print(f\"The sum of reciprocals from 1 to {n} is: {total:.2f}\")\n"
   ]
  },
  {
   "cell_type": "code",
   "execution_count": null,
   "id": "31c1baf4",
   "metadata": {},
   "outputs": [],
   "source": [
    "\n",
    "# Problem 13: Accumulate 5 user-input numbers and display the total\n",
    "total = 0\n",
    "for _ in range(5):\n",
    "    num = int(input(\"Enter a number: \"))\n",
    "    total += num\n",
    "print(f\"The final running total is: {total}\")\n"
   ]
  },
  {
   "cell_type": "code",
   "execution_count": null,
   "id": "83076641",
   "metadata": {},
   "outputs": [],
   "source": [
    "\n",
    "# Problem 14: Calculate the factorial of a number\n",
    "n = int(input(\"Enter a positive integer: \"))\n",
    "if n < 0:\n",
    "    print(\"Factorial does not exist for negative numbers.\")\n",
    "elif n == 0:\n",
    "    print(\"The factorial of 0 is 1.\")\n",
    "else:\n",
    "    factorial = 1\n",
    "    for i in range(1, n + 1):\n",
    "        factorial *= i\n",
    "    print(f\"The factorial of {n} is {factorial}\")\n"
   ]
  },
  {
   "cell_type": "code",
   "execution_count": null,
   "id": "2be9741d",
   "metadata": {},
   "outputs": [],
   "source": [
    "\n",
    "# Problem 15: Calculate the power of a base number raised to an exponent without using **\n",
    "base = int(input(\"Enter the base number: \"))\n",
    "exponent = int(input(\"Enter the exponent: \"))\n",
    "result = 1\n",
    "if exponent >= 0:\n",
    "    for _ in range(exponent):\n",
    "        result *= base\n",
    "else:\n",
    "    for _ in range(abs(exponent)):\n",
    "        result /= base\n",
    "print(f\"{base} raised to the power of {exponent} is {result}\")\n"
   ]
  }
 ],
 "metadata": {},
 "nbformat": 4,
 "nbformat_minor": 5
}
